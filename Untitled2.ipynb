{
 "cells": [
  {
   "cell_type": "code",
   "execution_count": 20,
   "id": "28b62fd3-f4a2-40b5-92d5-33f2b8176266",
   "metadata": {},
   "outputs": [],
   "source": [
    "import pyodbc\n",
    "import pandas as pd\n",
    "import random"
   ]
  },
  {
   "cell_type": "code",
   "execution_count": 2,
   "id": "20729f21-927f-44e6-96f8-dc94da29b256",
   "metadata": {},
   "outputs": [],
   "source": [
    "conn = pyodbc.connect('DRIVER={SQL Server Native Client 11.0};SERVER=localhost;DATABASE=logistica;Trusted_Connection=Yes')"
   ]
  },
  {
   "cell_type": "code",
   "execution_count": 3,
   "id": "811cc197-5c86-4a6a-bd07-d982d299248c",
   "metadata": {},
   "outputs": [],
   "source": [
    "cursor = conn.cursor()"
   ]
  },
  {
   "cell_type": "code",
   "execution_count": 26,
   "id": "5e62eba5-611c-4449-a512-08d29e1197e9",
   "metadata": {},
   "outputs": [
    {
     "data": {
      "text/plain": [
       "\" pedidos = cursor.execute('\\nfor row in pedidos:\\n    print(row) \""
      ]
     },
     "execution_count": 26,
     "metadata": {},
     "output_type": "execute_result"
    }
   ],
   "source": [
    "#Criando valores aleatórios para popular a coluna nova criada no banco de dados com Randint e PyODBC\n",
    "\n",
    "linhas = cursor.execute('SELECT count(1) FROM Pedidos').fetchone()\n",
    "contagem = linhas[0]\n",
    "\n",
    "for linha in range(1,contagem+1):\n",
    "    cursor.execute(f'UPDATE Pedidos SET Valor_Pedido = {random.randint(100,50000)} WHERE pedidoID = {linha}')\n",
    "\n",
    "cursor.commit()\n",
    "\n",
    "cursor.close()\n",
    "\n",
    "''' pedidos = cursor.execute('\n",
    "for row in pedidos:\n",
    "    print(row) '''"
   ]
  },
  {
   "cell_type": "code",
   "execution_count": 30,
   "id": "64516f62-d218-409b-ae0f-2086a4cc94a2",
   "metadata": {},
   "outputs": [],
   "source": [
    "# Adicionando ID de funcionário responsável pelo pedido\n",
    "\n",
    "cursor = conn.cursor()\n",
    "cursor.execute('ALTER TABLE Pedidos ADD FuncionarioID INT')\n",
    "cursor.commit()"
   ]
  },
  {
   "cell_type": "code",
   "execution_count": 122,
   "id": "2a64ff15-995f-47ef-ae5e-06fd2c069690",
   "metadata": {},
   "outputs": [],
   "source": [
    "# Importando os nomes em um DF\n",
    "df = pd.read_csv('Links/Files/ibge-mas-10000.csv')\n",
    "df = df['nome'].head(contagem)"
   ]
  },
  {
   "cell_type": "code",
   "execution_count": 123,
   "id": "2970eeb1-4957-42be-afb8-91f8cb5be38a",
   "metadata": {},
   "outputs": [],
   "source": [
    "# Pegando os nomes do DF, colocando em uma lista e definindo os sobrenomes alvos para randomizar\n",
    "\n",
    "nomes = [x for x in df]\n",
    "sobrenomes = ['SILVA', 'TORRES', 'FAGUNDES', 'RIBEIRO', 'SOUZA', 'FERREIRA', 'OLIVEIRA', 'CONCEICAO', 'JACKSON', 'ALVES', 'CABRAL', 'PINTO', 'CALABREZ', 'BALLAOUT', 'RIVER']"
   ]
  },
  {
   "cell_type": "code",
   "execution_count": 124,
   "id": "abde26f2-68f5-4a6c-8d92-3135652519c2",
   "metadata": {},
   "outputs": [],
   "source": [
    "# Desenvolvendo lógica para criar nomes fictícios\n",
    "\n",
    "nome_sn = []\n",
    "\n",
    "for i in range(len(nomes)):\n",
    "    nome_sn.append(nomes[i] + ' ' + sobrenomes[random.randint(0,len(sobrenomes)-1)])"
   ]
  },
  {
   "cell_type": "code",
   "execution_count": 125,
   "id": "4fb143b1-8bac-4c23-9a73-080f4b218901",
   "metadata": {},
   "outputs": [],
   "source": [
    "# Criando a coluna de emails a partir dos nomes, sobrenomes e a concatenação\n",
    "Cargo = ['Motorista' for x in range(len(nome_sn))]\n",
    "\n",
    "nome_s_espaco=[]\n",
    "email = []\n",
    "\n",
    "for num in range(len(nome_sn)):\n",
    "    nome_s_espaco.append(nome_sn[num].replace(' ',''))\n",
    "\n",
    "for num in range(len(nome_s_espaco)):\n",
    "    email.append(nome_s_espaco[num]+'@EMAIL.COM')\n",
    "    "
   ]
  },
  {
   "cell_type": "code",
   "execution_count": 180,
   "id": "abd26859-5a61-4f2b-ac47-5fe1cc6e677a",
   "metadata": {
    "scrolled": true
   },
   "outputs": [],
   "source": [
    "# Randomizando o numero de telefone\n",
    "numeros = ['0','1','2','3','4','5','6','7','8','9']\n",
    "telefone = []\n",
    "\n",
    "string_inicial = '3002' #simulando um ramal\n",
    "\n",
    "for num in range(len(nome_sn)):\n",
    "    string_final = numeros[random.randint(0, len(numeros)-1)]+numeros[random.randint(0, len(numeros)-1)]+numeros[random.randint(0, len(numeros)-1)]+numeros[random.randint(0, len(numeros)-1)]\n",
    "    telefone.append(string_inicial + '-' + string_final)\n",
    "    "
   ]
  },
  {
   "cell_type": "code",
   "execution_count": 193,
   "id": "223416dc-4ab6-4869-b5b5-526c21cc7a24",
   "metadata": {
    "scrolled": true
   },
   "outputs": [],
   "source": [
    "# Transformando nossas colunas aleatórias em DF\n",
    "\n",
    "colunas = ['Nome', 'Cargo', 'Email', 'Telefone']\n",
    "dados = [nome_sn, Cargo, email, telefone]\n",
    "\n",
    "novo_df = pd.DataFrame(data=dados)\n"
   ]
  },
  {
   "cell_type": "code",
   "execution_count": 194,
   "id": "419446a8-eb5f-414f-b0c1-9422a3f07458",
   "metadata": {},
   "outputs": [],
   "source": [
    "novo_df = novo_df.T"
   ]
  },
  {
   "cell_type": "code",
   "execution_count": 195,
   "id": "b2b207a2-edef-4096-a1d2-9eabd18ade79",
   "metadata": {},
   "outputs": [],
   "source": [
    "novo_df.columns = colunas"
   ]
  },
  {
   "cell_type": "code",
   "execution_count": 205,
   "id": "9a381524-9eb9-4d16-ae79-50a0027179bd",
   "metadata": {},
   "outputs": [],
   "source": [
    "novo_df['funcionarioID'] = novo_df.index "
   ]
  },
  {
   "cell_type": "code",
   "execution_count": 206,
   "id": "a70d33b3-4f2a-4857-9313-23ca5e0f22b3",
   "metadata": {},
   "outputs": [],
   "source": [
    "# Ordenando as colunas para que a ordem da tupla fique semelhante ao banco\n",
    "novo_df = novo_df[['funcionarioID', 'Nome', 'Cargo', 'Email', 'Telefone']]"
   ]
  },
  {
   "cell_type": "code",
   "execution_count": 207,
   "id": "6f865c64-6b3f-4f5b-812e-92b48c1fdebe",
   "metadata": {},
   "outputs": [],
   "source": [
    "# Conversão do DF em uma lista de tuplas\n",
    "tuplas = novo_df.itertuples(index=False)\n",
    "tuplas = list(tuplas)"
   ]
  },
  {
   "cell_type": "code",
   "execution_count": 208,
   "id": "405e8999-1fca-47b3-8ffc-aecfde80170c",
   "metadata": {},
   "outputs": [],
   "source": [
    "# Inserindo dados na tabela de Funcionarios\n",
    "\n",
    "cursor.executemany('INSERT INTO Funcionarios (funcionarioID, nome, cargo, email, telefone) VALUES (?,?,?,?,?)',tuplas)\n",
    "cursor.commit()"
   ]
  },
  {
   "cell_type": "code",
   "execution_count": 230,
   "id": "7f366d33-ae26-41f2-b8f5-dc55c5a510d2",
   "metadata": {},
   "outputs": [],
   "source": [
    "# Consulta Pedidos\n",
    "contagem_pedidos = cursor.execute('SELECT count(1) FROM Pedidos').fetchone()\n",
    "\n",
    "# Armazenar QTD de linhas da tabela numa variável\n",
    "contagem = pedidos[0]\n",
    "\n",
    "\n",
    "# Gerar códigos aleatórios de IDs de funcionários\n",
    "codigoFunc = [random.randint(1,contagem+1) for x in range(contagem)]"
   ]
  },
  {
   "cell_type": "code",
   "execution_count": 237,
   "id": "c0619f6a-001b-44ba-860e-ef29058e6249",
   "metadata": {},
   "outputs": [],
   "source": [
    "# Carregar tabela com IDs aleatórios\n",
    "for num in range(contagem):\n",
    "    cursor.execute(f'UPDATE Pedidos SET funcionarioID = {codigoFunc[num]} WHERE pedidoID = {num}')\n",
    "    cursor.commit()"
   ]
  },
  {
   "cell_type": "code",
   "execution_count": null,
   "id": "bad2defb-7b16-4ad0-9955-5fb59ffc6860",
   "metadata": {},
   "outputs": [],
   "source": [
    "ItemID\tPedidoID\tProdutoID\tQuantidade\tPrecoUnitario"
   ]
  }
 ],
 "metadata": {
  "kernelspec": {
   "display_name": "Python 3 (ipykernel)",
   "language": "python",
   "name": "python3"
  },
  "language_info": {
   "codemirror_mode": {
    "name": "ipython",
    "version": 3
   },
   "file_extension": ".py",
   "mimetype": "text/x-python",
   "name": "python",
   "nbconvert_exporter": "python",
   "pygments_lexer": "ipython3",
   "version": "3.8.17"
  }
 },
 "nbformat": 4,
 "nbformat_minor": 5
}
